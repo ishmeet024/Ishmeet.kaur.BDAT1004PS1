{
 "cells": [
  {
   "cell_type": "markdown",
   "id": "42957e3c-7b19-4aeb-8fd3-c6981efebe8b",
   "metadata": {},
   "source": [
    "Question 1 - What data type is each of the following (evaluate where necessary)?"
   ]
  },
  {
   "cell_type": "markdown",
   "id": "6041a38a-d10b-41d7-a053-bf3d6cd30caa",
   "metadata": {},
   "source": [
    "|data                    | data type                                                                                       |\n",
    "|:-------------          |----------------------------:                                                                    |\n",
    "|5                       | Integer                                                                                         |\n",
    "|5.0                     | Float                                                                                           |\n",
    "|5>1                     | Boolean                                                                                         |\n",
    "|'5'                     | String                                                                                          |\n",
    "|5*2 = 10                | Integer                                                                                         |\n",
    "|'5'* 2 = '55'           | String                                                                                          |\n",
    "|'5' + '2'= '52'         | String                                                                                          |\n",
    "|5/2 = 2.5               | Float                                                                                           |\n",
    "|5%2 = 1                 | Integer                                                                                         |\n",
    "|{5, 2, 1}               | Set                                                                                             |\n",
    "|5 == 3                  | Boolean                                                                                         |\n",
    "|Pi (the number)         | Float                                                                                           |"
   ]
  },
  {
   "cell_type": "markdown",
   "id": "06f558aa-fd92-4a97-bf53-639fb3c7efc8",
   "metadata": {},
   "source": [
    "Question 2 - Write (and evaluate) python expressions that answer these questions:"
   ]
  },
  {
   "cell_type": "markdown",
   "id": "02bc95ef-e71a-4a3c-953f-c7355605ea04",
   "metadata": {},
   "source": [
    "a- How many letters are there in 'Supercalifragilisticexpialidocious'?"
   ]
  },
  {
   "cell_type": "code",
   "execution_count": 10,
   "id": "54a28fc6-ea0a-4fa4-b960-ad590f53c287",
   "metadata": {},
   "outputs": [
    {
     "name": "stdout",
     "output_type": "stream",
     "text": [
      "34\n"
     ]
    }
   ],
   "source": [
    "str = \"Supercalifragilisticexpialidocious\"\n",
    "print(len(str))"
   ]
  },
  {
   "cell_type": "markdown",
   "id": "3215505e-01a2-4368-8736-38773a81f9f5",
   "metadata": {},
   "source": [
    "b. Does 'Supercalifragilisticexpialidocious' contain 'ice' as a substring?"
   ]
  },
  {
   "cell_type": "code",
   "execution_count": 11,
   "id": "d19ce237-9c0b-4745-8930-dcbade4064ec",
   "metadata": {},
   "outputs": [
    {
     "name": "stdout",
     "output_type": "stream",
     "text": [
      "It contains ice as a substring\n"
     ]
    }
   ],
   "source": [
    "#here we are checking whether this word contains ice or no \n",
    "\n",
    "str = \"'Supercalifragilisticexpialidocious\"\n",
    "if \"ice\" in str:\n",
    "    print(\"It contains ice as a substring\")\n",
    "else:\n",
    "    print(\"It does not contain ice as a substring\")"
   ]
  },
  {
   "cell_type": "markdown",
   "id": "a22b55aa-f0a9-49e4-b962-5ac03b3b2849",
   "metadata": {},
   "source": [
    "c. Which of the following words is the longest:\n",
    "   Supercalifragilisticexpialidocious, Honorificabilitudinitatibus, or\n",
    "   Bababadalgharaghtakamminarronnkonn?"
   ]
  },
  {
   "cell_type": "code",
   "execution_count": 12,
   "id": "3e79631b-f130-4746-8ce6-4836d407f54d",
   "metadata": {},
   "outputs": [
    {
     "name": "stdout",
     "output_type": "stream",
     "text": [
      "Bababadalgharaghtakamminarronnkonn is the longest word\n"
     ]
    }
   ],
   "source": [
    "#words\n",
    "a = \"Supercalifragilisticexpialidocious\"\n",
    "b = \"Honorificabilitudinitatibus\"\n",
    "c = \"Bababadalgharaghtakamminarronnkonn\"\n",
    "#check the length of each word\n",
    "length_a = len(a)\n",
    "length_b = len(b)\n",
    "length_c = len(c) \n",
    "#Find the longest word & print output \n",
    "if length_a>length_b:\n",
    "    if length_a>length_c:\n",
    "        print(a + \" \" + \"is the longest word\")\n",
    "    else:\n",
    "        print(c + \" \" + \"is the longest word\")\n",
    "else: \n",
    "    if length_b>length_c:\n",
    "        print(b + \" \" + \"is the longest word\")\n",
    "    else:\n",
    "        print(c + \" \" + \"is the longest word\")\n"
   ]
  },
  {
   "cell_type": "markdown",
   "id": "66ba60a9-11f2-4173-a181-c31917f0d9e0",
   "metadata": {},
   "source": [
    "d. Which composer comes first in the dictionary: 'Berlioz', 'Borodin', 'Brian', 'Bartok', 'Bellini', 'Buxtehude', 'Bernstein'. Which one comes last?"
   ]
  },
  {
   "cell_type": "code",
   "execution_count": 13,
   "id": "1cd4a98f-3cea-4c8d-99dd-bcaf0e50bcf2",
   "metadata": {},
   "outputs": [
    {
     "name": "stdout",
     "output_type": "stream",
     "text": [
      "['Bartok', 'Bellini', 'Berlioz', 'Bernstein', 'Borodin', 'Brian', 'Buxtehude']\n",
      "Bartok\n",
      "Buxtehude\n"
     ]
    }
   ],
   "source": [
    "#list of composers \n",
    "composers =  [\"Berlioz\", \"Borodin\", \"Brian\", \"Bartok\", \"Bellini\", \"Buxtehude\", \"Bernstein\"]\n",
    "\n",
    "#Arrange words alphabetically \n",
    "composers.sort() \n",
    "print(composers)\n",
    "\n",
    "#Print the first and last composer from sorted composers \n",
    "print(composers[0])\n",
    "print(composers[-1])\n",
    "\n",
    "\n"
   ]
  },
  {
   "cell_type": "markdown",
   "id": "444e5fa6-b5c2-4445-ad6c-c2edb170c5a0",
   "metadata": {},
   "source": [
    "Question - 3 Implement function triangleArea(a,b,c) that takes as input the lengths of the 3\n",
    "           sides of a triangle and returns the area of the triangle. By Heron's formula, the area\n",
    "           of a triangle with side lengths a, b, and c is\n",
    "           s(s - a)(s -b)(s -c), where\n",
    "           s = (a +b + c) /2.\n",
    "           >>> triangleArea(2,2,2)\n",
    "           1.7320508075688772"
   ]
  },
  {
   "cell_type": "code",
   "execution_count": 14,
   "id": "4da33721-d140-4aac-b17b-8ef77308965d",
   "metadata": {},
   "outputs": [
    {
     "name": "stdout",
     "output_type": "stream",
     "text": [
      "1.7320508075688772\n"
     ]
    }
   ],
   "source": [
    "#import math function \n",
    "import math \n",
    "\n",
    "#defining function\n",
    "def triangleArea(a, b, c):\n",
    "    s = (a + b + c) / 2\n",
    "\n",
    "    area = math.sqrt(s * (s - a) * (s -b) * (s -c))\n",
    "\n",
    "    return area\n",
    "\n",
    "triangle_area = triangleArea(2,2,2)\n",
    "#printing the output \n",
    "print(triangle_area)\n",
    "\n",
    "    \n",
    "    \n",
    "\n"
   ]
  },
  {
   "cell_type": "markdown",
   "id": "30a93371-909a-461e-8455-f68e76b8a201",
   "metadata": {},
   "source": [
    "Question 4: Write a program in python to separate odd and even integers in separate arrays. Go\n",
    "to the editor\n",
    "Test Data :\n",
    "Input the number of elements to be stored in the array :5\n",
    "Input 5 elements in the array :\n",
    "element - 0 : 25\n",
    "element - 1 : 47\n",
    "element - 2 : 42\n",
    "element - 3 : 56\n",
    "element - 4 : 32\n",
    "Expected Output:\n",
    "The Even elements are:\n",
    "42 56 32\n",
    "The Odd elements are :\n",
    "25 47"
   ]
  },
  {
   "cell_type": "code",
   "execution_count": 15,
   "id": "a5f47c79-964b-40b3-91ab-ad8631d5be1f",
   "metadata": {},
   "outputs": [
    {
     "name": "stdin",
     "output_type": "stream",
     "text": [
      "Number of items: 5\n",
      " 25\n",
      " 47\n",
      " 42\n",
      " 56\n",
      " 32\n"
     ]
    },
    {
     "name": "stdout",
     "output_type": "stream",
     "text": [
      "Even items are:\n",
      "[42, 56, 32]\n",
      "Odd items are\n",
      "[25, 47]\n"
     ]
    }
   ],
   "source": [
    "#input the number of elements to be stored \n",
    "array_size = int(input(\"Number of items:\"))\n",
    "\n",
    "# take arrays \n",
    "items = []\n",
    "odd_items = []\n",
    "even_items = []\n",
    "\n",
    "# use for loop \n",
    "# check if the number is even or odd \n",
    "for item in range (0, array_size):\n",
    "    items.append(int(input()))\n",
    "    #[12345]\n",
    "for item in items:\n",
    "    if item % 2 == 0 :\n",
    "        even_items.append(item)\n",
    "        \n",
    "    else:\n",
    "        odd_items.append(item)\n",
    "\n",
    "#printing the ouput as odd and even seperately \n",
    "print(\"Even items are:\")\n",
    "print(even_items)\n",
    "print(\"Odd items are\")\n",
    "print(odd_items)\n",
    "    \n",
    "   \n",
    "    \n",
    "\n",
    "\n"
   ]
  },
  {
   "cell_type": "markdown",
   "id": "fa5d1aa2-1abf-4730-bb95-e7b868f987e1",
   "metadata": {},
   "source": [
    "Question 5 - a. Write a function inside(x,y,x1,y1,x2,y2) that returns True or False depending on whether the point (x,y) lies in the rectangle with lower left corner (x1,y1) and upper right corner (x2,y2).\n",
    "inside(1,1,0,0,2,3)\n",
    "True\n",
    " inside(-1,-1,0,0,2,3)\n",
    "False"
   ]
  },
  {
   "cell_type": "code",
   "execution_count": 16,
   "id": "608e4fa3-db41-4243-a17a-e28673b8dd94",
   "metadata": {},
   "outputs": [
    {
     "name": "stdout",
     "output_type": "stream",
     "text": [
      "True\n",
      "False\n"
     ]
    }
   ],
   "source": [
    "\n",
    "#define function \n",
    "def inside (x, y, x1, y1, x2, y2):\n",
    "    if x1 <= x <= x2 and y1 <= y <= y2 :\n",
    "        return True \n",
    "    else: \n",
    "        return False\n",
    "\n",
    "#Given Coordinates \n",
    "cordinates1 = inside (1, 1, 0, 0, 2, 3)\n",
    "cordinates2 = inside (-1, -1, 0, 0, 2, 3) \n",
    "\n",
    "\n",
    "print(cordinates1) \n",
    "print(cordinates2)"
   ]
  },
  {
   "cell_type": "markdown",
   "id": "3be14ffe-3603-4796-9916-159bbed3bb24",
   "metadata": {},
   "source": [
    "b. Use function inside() from part a. to write an expression that tests whether the point (1,1) lies in both of the following rectangles: one with lower left corner (0.3, 0.5) and upper right corner (1.1, 0.7) and the other with lower left corner (0.5, 0.2) and upper right corner (1.1, 2)."
   ]
  },
  {
   "cell_type": "code",
   "execution_count": 17,
   "id": "f9f5ea4e-f528-422a-bf93-efad96457020",
   "metadata": {},
   "outputs": [
    {
     "name": "stdout",
     "output_type": "stream",
     "text": [
      "False\n"
     ]
    }
   ],
   "source": [
    "#define the function inside\n",
    "def inside (x, y, x1, y1, x2, y2):\n",
    "    return (x1 <= x <= x2 and y1 <= y <= y2)\n",
    "\n",
    "#define the points of rectangle 1 \n",
    "lower_rect1 = (0.3, 0.5)\n",
    "upper_rect1 = (1.1, 0.7)\n",
    "\n",
    "#define the points of rectangle 2 \n",
    "lower_rect2 = (0.5, 0.2)\n",
    "upper_rect2 = (1.1, 2)\n",
    "\n",
    "#define the x & y points \n",
    "x_point, y_point = (1, 1) \n",
    "\n",
    "#check whether the point lies in both the rectangles \n",
    "in_the_rectangle = (inside(lower_rect1[0], lower_rect1[1],upper_rect1[0], upper_rect1[1], x_point, y_point) and inside(lower_rect2[0], lower_rect2[1], upper_rect2[0], upper_rect2[1], x_point, y_point))\n",
    "\n",
    "\n",
    "#print the result \n",
    "print(in_the_rectangle)"
   ]
  },
  {
   "cell_type": "markdown",
   "id": "258c29d2-0c4b-444a-91ef-d5726becaf97",
   "metadata": {},
   "source": [
    "Question 6 - You can turn a word into pig-Latin using the following two rules (simplified):\n",
    "• If the word starts with a consonant, move that letter to the end and append 'ay'. For example, 'happy' becomes 'appyhay' and 'pencil' becomes 'encilpay'.\n",
    "• If the word starts with a vowel, simply append 'way' to the end of the word. For example, 'enter' becomes 'enterway' and 'other' becomes 'otherway' . For our purposes, there are 5 vowels: a, e, i, o, u (so we count y as a consonant).\n",
    "Write a function pig() that takes a word (i.e., a string) as input and returns its pig-Latin form. Your function should still work if the input word contains upper case characters. Your output should always be lower case however.\n",
    "pig('happy')\n",
    "'appyhay'\n",
    "pig('Enter')\n",
    "'enterway'"
   ]
  },
  {
   "cell_type": "code",
   "execution_count": 18,
   "id": "dae95cd2-e629-4e5b-97f6-fb53e5795a73",
   "metadata": {},
   "outputs": [
    {
     "name": "stdout",
     "output_type": "stream",
     "text": [
      "appyhay\n",
      "enterway\n"
     ]
    }
   ],
   "source": [
    "#first define pig function \n",
    "def pig(word):\n",
    "\n",
    "#we need to convert each letter of word into lowercase \n",
    "    word = word.lower()\n",
    "\n",
    "#Defining vowels \n",
    "    vowels  = 'a', 'e', 'i', 'o', 'u' \n",
    "\n",
    "# now we will convert it into latin word form \n",
    "    if word[0] in vowels:\n",
    "        latinword = word + 'way'                              #here we are moving the first consonant to the end and append way\n",
    "\n",
    "    else: \n",
    "        latinword = word[1:] + word[0] + 'ay'                  #here we are moving the first consonant to the end and append ay\n",
    "\n",
    "    print(latinword)\n",
    "\n",
    "pig('Happy')\n",
    "pig('Enter')"
   ]
  },
  {
   "cell_type": "markdown",
   "id": "8661c25f-d6e9-4cc0-ae48-473c80133994",
   "metadata": {},
   "source": [
    "Question 7- File bloodtype1.txt records blood-types of patients (A, B, AB, O or OO) at a clinic. Write a function bldcount() that reads the file with name name and reports (i.e., prints) how many patients there are in each bloodtype.\n",
    " bldcount('bloodtype.txt')\n",
    "There are 10 patients of blood type A.\n",
    "There is one patient of blood type B.\n",
    "There are 10 patients of blood type AB.\n",
    "There are 12 patients of blood type O.\n",
    "There are no patients of blood type OO."
   ]
  },
  {
   "cell_type": "markdown",
   "id": "69f66c27-3c72-4763-a8a1-d471b4813a81",
   "metadata": {},
   "source": [
    "Question 8 - Write a function curconv() that takes as input:\n",
    "1. a currency represented using a string (e.g., 'JPY' for the Japanese Yen or 'EUR' for the Euro)\n",
    "2. an amount\n",
    "and then converts and returns the amount in US dollars.\n",
    "curconv('EUR', 100)\n",
    "122.96544\n",
    "curconv('JPY', 100)\n",
    "1.241401\n",
    "The currency rates you will need are stored in file currencies.txt:\n",
    "AUD 1.0345157 Australian Dollar\n",
    "CHF 1.0237414 Swiss Franc\n",
    "CNY 0.1550176 Chinese Yuan\n",
    "DKK 0.1651442 Danish Krone\n",
    "EUR 1.2296544 Euro\n",
    "GBP 1.5550989 British Pound\n",
    "HKD 0.1270207 Hong Kong Dollar\n",
    "INR 0.0177643 Indian Rupee\n",
    "JPY 0.01241401 Japanese Yen\n",
    "MXN 0.0751848 Mexican Peso\n",
    "MYR 0.3145411 Malaysian Ringgit\n",
    "NOK 0.1677063 Norwegian Krone\n",
    "NZD 0.8003591 New Zealand Dollar\n",
    "PHP 0.0233234 Philippine Peso\n",
    "SEK 0.148269 Swedish Krona\n",
    "SGD 0.788871 Singapore Dollar\n",
    "THB 0.0313789 Thai Baht"
   ]
  },
  {
   "cell_type": "code",
   "execution_count": 20,
   "id": "fa2a74d8-004e-423f-a58d-c96e24c99403",
   "metadata": {},
   "outputs": [
    {
     "name": "stdout",
     "output_type": "stream",
     "text": [
      "122.96544\n",
      "1.241401\n"
     ]
    }
   ],
   "source": [
    "\n",
    "# define the function\n",
    "def curconv(currency, amount):\n",
    "        file_path = ('currencies.txt')\n",
    "        exchange_rates = {}                        \n",
    "        with open (file_path, 'r') as file:                                  #open the file \n",
    "            for line in file:\n",
    "                parts = line.split()                                       #spliting the line in parts using split \n",
    "                code = parts[0]\n",
    "                rate = float(parts[1])\n",
    "                exchange_rates[code] = rate\n",
    "            \n",
    "# here trying to find the exchange rate for the given currency\n",
    "            if currency in exchange_rates:\n",
    "                rate = exchange_rates[currency]\n",
    "                converted_amount = amount * rate\n",
    "                print(converted_amount)\n",
    "    \n",
    "            else:\n",
    "                return None\n",
    "            file.close()\n",
    "curconv('EUR', 100)\n",
    "curconv('JPY', 100)\n"
   ]
  },
  {
   "cell_type": "markdown",
   "id": "9c68e8f8-c534-41ed-8bc2-75ac8c566d51",
   "metadata": {},
   "source": [
    "Question 9 - Each of the following will cause an exception (an error). Identify what type of exception each will cause.\n"
   ]
  },
  {
   "cell_type": "markdown",
   "id": "1c8b0c85-2fa6-4217-9bf5-f6647d47d2da",
   "metadata": {},
   "source": [
    "\n",
    "1. Trying to add incompatible variables, as in\n",
    "adding 6 + ‘a’\n"
   ]
  },
  {
   "cell_type": "code",
   "execution_count": 21,
   "id": "b450a7d3-da0f-40a6-a753-0197b811dd91",
   "metadata": {},
   "outputs": [
    {
     "ename": "SyntaxError",
     "evalue": "invalid character '‘' (U+2018) (3629846938.py, line 1)",
     "output_type": "error",
     "traceback": [
      "\u001b[1;36m  Cell \u001b[1;32mIn[21], line 1\u001b[1;36m\u001b[0m\n\u001b[1;33m    6 + ‘a’\u001b[0m\n\u001b[1;37m        ^\u001b[0m\n\u001b[1;31mSyntaxError\u001b[0m\u001b[1;31m:\u001b[0m invalid character '‘' (U+2018)\n"
     ]
    }
   ],
   "source": [
    "#here trying to add int and string \n",
    "\n",
    "6 + ‘a’\n",
    "#SyntaxError: invalid character '‘' (U+2018)"
   ]
  },
  {
   "cell_type": "markdown",
   "id": "7e9e8ba1-e536-4b55-aa84-8f1f153a2ec4",
   "metadata": {},
   "source": [
    "2. Referring to the 12\n",
    "th item of a list that has only 10\n",
    "items"
   ]
  },
  {
   "cell_type": "code",
   "execution_count": null,
   "id": "c10f04f6-dd2f-4cd8-a884-4018b47f7f79",
   "metadata": {},
   "outputs": [],
   "source": [
    "\n",
    "#create a list \n",
    "list = ['A','B','C','D','E','F','G','H','I','J']\n",
    "print(list[11])\n",
    "\n",
    "#IndexError: list index out of range"
   ]
  },
  {
   "cell_type": "markdown",
   "id": "e0fe1258-92be-4ec0-a909-6af7f585a3be",
   "metadata": {},
   "source": [
    "3. Using a value that is out of range for a function’s\n",
    "input, such as calling math.sqrt( 1.0)"
   ]
  },
  {
   "cell_type": "code",
   "execution_count": null,
   "id": "43ea31c3-b098-4690-859e-8c2459c3a954",
   "metadata": {},
   "outputs": [],
   "source": [
    "#importing math function \n",
    "import math \n",
    "square_root = math.sqrt(1.0 , 1.2)\n",
    "print(square_root)\n",
    "#math.sqrt() takes exactly one argument (2 given)"
   ]
  },
  {
   "cell_type": "markdown",
   "id": "3bca9f7e-75dc-46d0-9dec-babd3474240d",
   "metadata": {},
   "source": [
    "4. Using an undeclared variable, such as\n",
    "print(x)\n",
    "when x has not been defined"
   ]
  },
  {
   "cell_type": "code",
   "execution_count": 28,
   "id": "9d3407db-01fd-4764-bc8b-11d19f67abf3",
   "metadata": {},
   "outputs": [
    {
     "ename": "NameError",
     "evalue": "name 'x' is not defined",
     "output_type": "error",
     "traceback": [
      "\u001b[1;31m---------------------------------------------------------------------------\u001b[0m",
      "\u001b[1;31mNameError\u001b[0m                                 Traceback (most recent call last)",
      "Cell \u001b[1;32mIn[28], line 1\u001b[0m\n\u001b[1;32m----> 1\u001b[0m \u001b[38;5;28mprint\u001b[39m(x)\n",
      "\u001b[1;31mNameError\u001b[0m: name 'x' is not defined"
     ]
    }
   ],
   "source": [
    "#print undeclared variable \n",
    "\n",
    "print(x)\n",
    "\n",
    "#NameError: name 'x' is not defined"
   ]
  },
  {
   "cell_type": "markdown",
   "id": "05461696-bd00-4686-b72a-27340726ed7b",
   "metadata": {},
   "source": [
    "5. Trying to open a file that does not exist, such as\n",
    "mistyping the file name or looking in the wrong\n",
    "directory."
   ]
  },
  {
   "cell_type": "code",
   "execution_count": null,
   "id": "5476ee57-5a8b-4907-a446-220cca6c1a9e",
   "metadata": {},
   "outputs": [],
   "source": [
    "#call undefined file \n",
    "file_name = \"Exercise1.txt\"\n",
    "f = open(file_name , 'r')\n",
    "print(f.read())\n",
    "\n",
    "\n",
    "#FileNotFoundError: [Errno 2] No such file or directory: 'blooodtype1.txt'"
   ]
  },
  {
   "cell_type": "markdown",
   "id": "66d1df18-426c-49d7-84f3-fc57786faac4",
   "metadata": {},
   "source": [
    "|Question                                       | error|\n",
    "|:--------------------------------------------- |-----------------------------------:   |\n",
    "|Trying to add incompatible variables, as in adding 6 + ‘a’ | #SyntaxError: invalid character '‘' (U+2018)  |\n",
    "|Referring to the 12 th item of a list that has only 10 items | #IndexError: list index out of range |\n",
    "| Using a value that is out of range for a function’s input, such as calling math.sqrt( 1.0) | #math.sqrt() takes exactly one argument (2 given)|\n",
    "|Using an undeclared variable, such as print(x) when x has not been defined| #NameError: name 'x' is not defined|\n",
    "|Trying to open a file that does not exist, such as mistyping the file name or looking in the wrong directory.| #FileNotFoundError: [Errno 2] No such file or directory: 'blooodtype1.txt'|"
   ]
  },
  {
   "cell_type": "markdown",
   "id": "de1fdabc-f4a0-4137-8c6d-d21fb8537016",
   "metadata": {},
   "source": [
    "Question 10 - Encryption is the process of hiding the meaning of a text by substituting letters in the message with other letters, according to some system. If the process is successful, no one but the intended recipient can understand the encrypted message. Cryptanalysis refers to attempts to undo the encryption, even if some details of the encryption are unknown (for example, if an encrypted message has been intercepted). The first step of cryptanalysis is often to build up a table of letter frequencies in the encrypted text. Assume that the string letters is already defined as 'abcdefghijklmnopqrstuvwxyz'. Write a function called frequencies() that takes a string as its only parameter, and returns a list of integers, showing the number of times each character appears in the text. Your function may ignore any characters that are not in letters.\n",
    "frequencies('The quick red fox got bored and went home.')\n",
    "[1, 1, 1, 3, 5, 1, 1, 2, 1, 0, 1, 0, 1, 2, 4, 0, 1, 2, 0, 2, 1, 0, 1, 1, 0, 0]\n",
    "frequencies('apple')"
   ]
  },
  {
   "cell_type": "code",
   "execution_count": 27,
   "id": "f0717b1d-24bc-4738-a240-12c683fefe00",
   "metadata": {},
   "outputs": [
    {
     "name": "stdout",
     "output_type": "stream",
     "text": [
      "[1, 0, 0, 0, 1, 0, 0, 0, 0, 0, 0, 1, 0, 0, 0, 2, 0, 0, 0, 0, 0, 0, 0, 0, 0, 0]\n"
     ]
    }
   ],
   "source": [
    "def frequencies(text):                              #defining function here \n",
    "    letters = 'abcdefghijklmnopqrstuvwxyz'              \n",
    "    freq_dict =  [0] * 26                           #using dictionary \n",
    "    \n",
    "    text = text.lower()                             #lower texts\n",
    "    \n",
    "    for char in text:\n",
    "        if char in letters:\n",
    "            index = letters.index(char)\n",
    "            freq_dict[index] += 1\n",
    "    \n",
    "        \n",
    "    print(freq_dict)\n",
    "\n",
    "user_input1 = frequencies(\"apple\")"
   ]
  }
 ],
 "metadata": {
  "kernelspec": {
   "display_name": "Python 3 (ipykernel)",
   "language": "python",
   "name": "python3"
  },
  "language_info": {
   "codemirror_mode": {
    "name": "ipython",
    "version": 3
   },
   "file_extension": ".py",
   "mimetype": "text/x-python",
   "name": "python",
   "nbconvert_exporter": "python",
   "pygments_lexer": "ipython3",
   "version": "3.11.7"
  }
 },
 "nbformat": 4,
 "nbformat_minor": 5
}
